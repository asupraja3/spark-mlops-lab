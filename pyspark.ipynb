{
  "nbformat": 4,
  "nbformat_minor": 0,
  "metadata": {
    "colab": {
      "provenance": [],
      "authorship_tag": "ABX9TyPbrpRJDyfGKUFYhh25lw/p",
      "include_colab_link": true
    },
    "kernelspec": {
      "name": "python3",
      "display_name": "Python 3"
    },
    "language_info": {
      "name": "python"
    }
  },
  "cells": [
    {
      "cell_type": "markdown",
      "metadata": {
        "id": "view-in-github",
        "colab_type": "text"
      },
      "source": [
        "<a href=\"https://colab.research.google.com/github/asupraja3/spark-mlops-lab/blob/main/pyspark.ipynb\" target=\"_parent\"><img src=\"https://colab.research.google.com/assets/colab-badge.svg\" alt=\"Open In Colab\"/></a>"
      ]
    },
    {
      "cell_type": "code",
      "execution_count": 1,
      "metadata": {
        "colab": {
          "base_uri": "https://localhost:8080/"
        },
        "id": "WloSECBXd0cC",
        "outputId": "1a3a2616-51dc-457c-b75b-2769c952e986"
      },
      "outputs": [
        {
          "output_type": "stream",
          "name": "stdout",
          "text": [
            "Requirement already satisfied: pyspark in /usr/local/lib/python3.12/dist-packages (3.5.1)\n",
            "Requirement already satisfied: py4j==0.10.9.7 in /usr/local/lib/python3.12/dist-packages (from pyspark) (0.10.9.7)\n"
          ]
        }
      ],
      "source": [
        "# Install PySpark\n",
        "!pip install pyspark"
      ]
    },
    {
      "cell_type": "markdown",
      "source": [
        "**1. Start the Session and Set Config**\n",
        "* In most environments (like Databricks or pyspark), the spark object is ready. If not, run this:\n"
      ],
      "metadata": {
        "id": "_eo8_aDcktqS"
      }
    },
    {
      "cell_type": "code",
      "source": [
        "from pyspark.sql import SparkSession\n",
        "# Standard way to get/create a SparkSession\n",
        "spark = SparkSession.builder.appName(\"Pyspark Practice\").getOrCreate()\n",
        "# NEW: Set time policy for reliable date/time parsing across different formats\n",
        "spark.sql(\"SET spark.sql.legacy.timeParserPolicy=LEGACY\")"
      ],
      "metadata": {
        "colab": {
          "base_uri": "https://localhost:8080/"
        },
        "id": "dI1jaqukks3N",
        "outputId": "7ad97554-3b89-4715-e00d-98e52e926b61"
      },
      "execution_count": 2,
      "outputs": [
        {
          "output_type": "execute_result",
          "data": {
            "text/plain": [
              "DataFrame[key: string, value: string]"
            ]
          },
          "metadata": {},
          "execution_count": 2
        }
      ]
    },
    {
      "cell_type": "markdown",
      "source": [
        "**2. DataFrame Creation Examples**"
      ],
      "metadata": {
        "id": "tF0iFGt7lrKL"
      }
    },
    {
      "cell_type": "code",
      "source": [
        "#From Python List\n",
        "data = [(\"Alice\", 1, \"2024-01-01\"), (\"Bob\", 2, \"2024-01-02\")]\n",
        "df_data = spark.createDataFrame(data, [\"Name\", \"ID\", \"Date\"])\n",
        "\n",
        "#From JSON File\n",
        "#df_json = spark.read.json(\"/temp.JSON\")\n",
        "\n",
        "#From CSV File\n",
        "#df_json = spark.read.csv(\"/temp.csv\", header=True, inferSchema=True)\n",
        "\n",
        "#From Parquet File\n",
        "#df_json = spark.read.parquet(\"/temp.pq\")"
      ],
      "metadata": {
        "id": "7xKeIMyfmTTF"
      },
      "execution_count": 3,
      "outputs": []
    },
    {
      "cell_type": "markdown",
      "source": [
        "**II. Schema: The Blueprint of Your Data**\n",
        "* A Schema is the definition of the column names and their data types (e.g., String, Integer, Date). Spark can either guess the schema or you can define it precisely.\n",
        "* inferSchema=True: Spark scans the data to guess the types. Quick for small datasets or exploration.\n",
        "* StructType and StructField: Reliable for production ETL. Avoids misinterpretation, like treating a column of numbers as strings.\n",
        "\n"
      ],
      "metadata": {
        "id": "pMui8vOXw-aN"
      }
    },
    {
      "cell_type": "code",
      "source": [
        "from pyspark.sql.types import StructType, StructField, StringType, IntegerType\n",
        "sample_data = [\n",
        "    (\"Alice\", 25, \"New York\"),\n",
        "    (\"Bob\", 30, \"London\"),\n",
        "    (\"Charlie\", 25, \"New York\")\n",
        "]\n",
        "\n",
        "# 2. Explicitly define the schema (StructType)\n",
        "defined_schema = StructType([StructField(\"name\", StringType(), True),\n",
        "                StructField(\"mployee_age\", IntegerType(), True),\n",
        "                StructField(\"city\", StringType(), True)])\n",
        "\n",
        "# 3. Create the DataFrame using the explicit schema\n",
        "df = spark.createDataFrame(data=sample_data, schema=defined_schema)\n",
        "\n",
        "df.printSchema()\n",
        "df.show()"
      ],
      "metadata": {
        "colab": {
          "base_uri": "https://localhost:8080/"
        },
        "id": "ercE043BxBPE",
        "outputId": "fb89365a-4905-4958-c60a-633c33ab8ed2"
      },
      "execution_count": 5,
      "outputs": [
        {
          "output_type": "stream",
          "name": "stdout",
          "text": [
            "root\n",
            " |-- name: string (nullable = true)\n",
            " |-- mployee_age: integer (nullable = true)\n",
            " |-- city: string (nullable = true)\n",
            "\n",
            "+-------+-----------+--------+\n",
            "|   name|mployee_age|    city|\n",
            "+-------+-----------+--------+\n",
            "|  Alice|         25|New York|\n",
            "|    Bob|         30|  London|\n",
            "|Charlie|         25|New York|\n",
            "+-------+-----------+--------+\n",
            "\n"
          ]
        }
      ]
    },
    {
      "cell_type": "code",
      "source": [
        "from pyspark.sql.functions import lit\n",
        "# a. SELECT (Selecting and Renaming Columns)\n",
        "df_select = df.select(\"city\", df[\"name\"].alias(\"emp_name\"))\n",
        "df_select.show(3)\n",
        "# b. withColumn (Adding or Modifying a Column)\n",
        "df1 = df.withColumn(\"city_NY\", (df.city == \"New York\"))# Boolean flag\n",
        "df2 = df1.withColumn(\"const\", lit(100)) # Add column with constant value\n",
        "df2.show()\n",
        "# c. drop (Removing Columns)\n",
        "df3 = df2.drop(\"const\")\n",
        "df3.show()"
      ],
      "metadata": {
        "colab": {
          "base_uri": "https://localhost:8080/"
        },
        "id": "n4x7iLdjx2TL",
        "outputId": "bcfea396-9218-4ccf-94bd-a0ae531b9ccc"
      },
      "execution_count": 9,
      "outputs": [
        {
          "output_type": "stream",
          "name": "stdout",
          "text": [
            "+--------+--------+\n",
            "|    city|emp_name|\n",
            "+--------+--------+\n",
            "|New York|   Alice|\n",
            "|  London|     Bob|\n",
            "|New York| Charlie|\n",
            "+--------+--------+\n",
            "\n",
            "+-------+-----------+--------+-------+-----+\n",
            "|   name|mployee_age|    city|city_NY|const|\n",
            "+-------+-----------+--------+-------+-----+\n",
            "|  Alice|         25|New York|   true|  100|\n",
            "|    Bob|         30|  London|  false|  100|\n",
            "|Charlie|         25|New York|   true|  100|\n",
            "+-------+-----------+--------+-------+-----+\n",
            "\n",
            "+-------+-----------+--------+-------+\n",
            "|   name|mployee_age|    city|city_NY|\n",
            "+-------+-----------+--------+-------+\n",
            "|  Alice|         25|New York|   true|\n",
            "|    Bob|         30|  London|  false|\n",
            "|Charlie|         25|New York|   true|\n",
            "+-------+-----------+--------+-------+\n",
            "\n"
          ]
        }
      ]
    },
    {
      "cell_type": "code",
      "source": [],
      "metadata": {
        "id": "ZSufwros2Tmu"
      },
      "execution_count": null,
      "outputs": []
    }
  ]
}