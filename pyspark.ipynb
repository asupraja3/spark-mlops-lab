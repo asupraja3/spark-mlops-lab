{
  "nbformat": 4,
  "nbformat_minor": 0,
  "metadata": {
    "colab": {
      "provenance": [],
      "authorship_tag": "ABX9TyOpkObtrhDGxQ3wI/Sp0sUs",
      "include_colab_link": true
    },
    "kernelspec": {
      "name": "python3",
      "display_name": "Python 3"
    },
    "language_info": {
      "name": "python"
    }
  },
  "cells": [
    {
      "cell_type": "markdown",
      "metadata": {
        "id": "view-in-github",
        "colab_type": "text"
      },
      "source": [
        "<a href=\"https://colab.research.google.com/github/asupraja3/spark-mlops-lab/blob/main/pyspark.ipynb\" target=\"_parent\"><img src=\"https://colab.research.google.com/assets/colab-badge.svg\" alt=\"Open In Colab\"/></a>"
      ]
    },
    {
      "cell_type": "code",
      "execution_count": 1,
      "metadata": {
        "colab": {
          "base_uri": "https://localhost:8080/"
        },
        "id": "WloSECBXd0cC",
        "outputId": "1a3a2616-51dc-457c-b75b-2769c952e986"
      },
      "outputs": [
        {
          "output_type": "stream",
          "name": "stdout",
          "text": [
            "Requirement already satisfied: pyspark in /usr/local/lib/python3.12/dist-packages (3.5.1)\n",
            "Requirement already satisfied: py4j==0.10.9.7 in /usr/local/lib/python3.12/dist-packages (from pyspark) (0.10.9.7)\n"
          ]
        }
      ],
      "source": [
        "# Install PySpark\n",
        "!pip install pyspark"
      ]
    },
    {
      "cell_type": "markdown",
      "source": [
        "**1. Start the Session and Set Config**\n",
        "* In most environments (like Databricks or pyspark), the spark object is ready. If not, run this:\n"
      ],
      "metadata": {
        "id": "_eo8_aDcktqS"
      }
    },
    {
      "cell_type": "code",
      "source": [
        "from pyspark.sql import SparkSession\n",
        "# Standard way to get/create a SparkSession\n",
        "spark = SparkSession.builder.appName(\"Pyspark Practice\").getOrCreate()\n",
        "# NEW: Set time policy for reliable date/time parsing across different formats\n",
        "spark.sql(\"SET spark.sql.legacy.timeParserPolicy=LEGACY\")"
      ],
      "metadata": {
        "colab": {
          "base_uri": "https://localhost:8080/"
        },
        "id": "dI1jaqukks3N",
        "outputId": "7ad97554-3b89-4715-e00d-98e52e926b61"
      },
      "execution_count": 2,
      "outputs": [
        {
          "output_type": "execute_result",
          "data": {
            "text/plain": [
              "DataFrame[key: string, value: string]"
            ]
          },
          "metadata": {},
          "execution_count": 2
        }
      ]
    },
    {
      "cell_type": "markdown",
      "source": [
        "**2. DataFrame Creation Examples**"
      ],
      "metadata": {
        "id": "tF0iFGt7lrKL"
      }
    },
    {
      "cell_type": "code",
      "source": [],
      "metadata": {
        "id": "7xKeIMyfmTTF"
      },
      "execution_count": null,
      "outputs": []
    }
  ]
}